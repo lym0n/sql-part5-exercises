{
    "metadata": {
        "kernelspec": {
            "name": "SQL",
            "display_name": "SQL",
            "language": "sql"
        },
        "language_info": {
            "name": "sql",
            "version": ""
        }
    },
    "nbformat_minor": 2,
    "nbformat": 4,
    "cells": [
        {
            "cell_type": "markdown",
            "source": [
                "# Exercises: Creating, Updating, and Destroying Objects\n",
                "\n",
                "For the exercises, you will be working with objects and data you create. Before opening this notebook, make sure that you have set up the new connection to the server and that you have located the database and your schema.\n",
                "\n",
                "## Object Creation\n",
                "\n",
                "Before coding, think of three things you want to make. These could be coding projects, new recipes, or planned projects for a woodworking hobby. Brainstorm the appropriate column names and data types as well.\n",
                "\n",
                "Create a table under your schema called `planned_makes`."
            ],
            "metadata": {
                "azdata_cell_guid": "9d51c166-0c19-4f27-a422-2a6cf596bfb2"
            },
            "attachments": {}
        },
        {
            "cell_type": "code",
            "source": [
                " \n",
                "CREATE TABLE graceb.cake(\n",
                "\n",
                "     cake_id INT PRIMARY KEY IDENTITY (1, 1),\n",
                "     \n",
                "     name VARCHAR(25),      \n",
                "\n",
                "     description VARCHAR(100),      \n",
                "\n",
                "     price INT,\n",
                "\n",
                ");\n",
                ""
            ],
            "metadata": {
                "azdata_cell_guid": "d9238911-6f81-4f01-980d-b584307effaf",
                "language": "sql",
                "tags": []
            },
            "outputs": [
                {
                    "output_type": "error",
                    "evalue": "Msg 2714, Level 16, State 6, Line 2\r\nThere is already an object named 'cake' in the database.",
                    "ename": "",
                    "traceback": []
                },
                {
                    "output_type": "display_data",
                    "data": {
                        "text/html": "Total execution time: 00:00:00.036"
                    },
                    "metadata": {}
                }
            ],
            "execution_count": 24
        },
        {
            "cell_type": "markdown",
            "source": [
                "Add three rows to your table that are your planned makes."
            ],
            "metadata": {
                "azdata_cell_guid": "83cdf34d-8c4f-4fa1-a14e-77384b19d734"
            }
        },
        {
            "cell_type": "code",
            "source": [
                "\r\n",
                "INSERT INTO graceb.cake\r\n",
                "VALUES ('caramel', 'yellow cake with caramel icing', '30');\r\n",
                "\r\n",
                "\r\n",
                " INSERT INTO graceb.cake\r\n",
                "VALUES ('carrot', 'yellow cake with spices and dried fruits', '25'); \r\n",
                "\r\n",
                "\r\n",
                " INSERT INTO graceb.cake\r\n",
                "VALUES ('spice', 'yellow cake with spices', '20');\r\n",
                ""
            ],
            "metadata": {
                "azdata_cell_guid": "e7cff9cb-87ba-4c7b-98f2-eaf445e8719c",
                "language": "sql",
                "tags": []
            },
            "outputs": [
                {
                    "output_type": "display_data",
                    "data": {
                        "text/html": "(1 row affected)"
                    },
                    "metadata": {}
                },
                {
                    "output_type": "display_data",
                    "data": {
                        "text/html": "(1 row affected)"
                    },
                    "metadata": {}
                },
                {
                    "output_type": "display_data",
                    "data": {
                        "text/html": "(1 row affected)"
                    },
                    "metadata": {}
                },
                {
                    "output_type": "display_data",
                    "data": {
                        "text/html": "Total execution time: 00:00:00.055"
                    },
                    "metadata": {}
                }
            ],
            "execution_count": 27
        },
        {
            "cell_type": "code",
            "source": [
                "SELECT *\r\n",
                "FROM graceb.cake"
            ],
            "metadata": {
                "language": "sql",
                "azdata_cell_guid": "decffb95-7427-47c2-9656-6ddf83905054"
            },
            "outputs": [
                {
                    "output_type": "display_data",
                    "data": {
                        "text/html": "(15 rows affected)"
                    },
                    "metadata": {}
                },
                {
                    "output_type": "display_data",
                    "data": {
                        "text/html": "Total execution time: 00:00:00.081"
                    },
                    "metadata": {}
                },
                {
                    "output_type": "execute_result",
                    "metadata": {},
                    "execution_count": 28,
                    "data": {
                        "application/vnd.dataresource+json": {
                            "schema": {
                                "fields": [
                                    {
                                        "name": "cake_id"
                                    },
                                    {
                                        "name": "name"
                                    },
                                    {
                                        "name": "description"
                                    },
                                    {
                                        "name": "price"
                                    }
                                ]
                            },
                            "data": [
                                {
                                    "0": "1",
                                    "1": "caramel",
                                    "2": "yellow cake with caramel icing",
                                    "3": "30"
                                },
                                {
                                    "0": "3",
                                    "1": "spice",
                                    "2": "yellow cake with spices",
                                    "3": "20"
                                },
                                {
                                    "0": "4",
                                    "1": "caramel",
                                    "2": "yellow cake with caramel icing",
                                    "3": "30"
                                },
                                {
                                    "0": "6",
                                    "1": "spice",
                                    "2": "yellow cake with spices",
                                    "3": "20"
                                },
                                {
                                    "0": "7",
                                    "1": "caramel",
                                    "2": "yellow cake with caramel icing",
                                    "3": "30"
                                },
                                {
                                    "0": "9",
                                    "1": "spice",
                                    "2": "yellow cake with spices",
                                    "3": "20"
                                },
                                {
                                    "0": "10",
                                    "1": "caramel",
                                    "2": "yellow cake with caramel icing",
                                    "3": "30"
                                },
                                {
                                    "0": "12",
                                    "1": "spice",
                                    "2": "yellow cake with spices",
                                    "3": "20"
                                },
                                {
                                    "0": "13",
                                    "1": "caramel",
                                    "2": "yellow cake with caramel icing",
                                    "3": "30"
                                },
                                {
                                    "0": "15",
                                    "1": "spice",
                                    "2": "yellow cake with spices",
                                    "3": "20"
                                },
                                {
                                    "0": "16",
                                    "1": "caramel",
                                    "2": "yellow cake with caramel icing",
                                    "3": "30"
                                },
                                {
                                    "0": "18",
                                    "1": "spice",
                                    "2": "yellow cake with spices",
                                    "3": "20"
                                },
                                {
                                    "0": "19",
                                    "1": "caramel",
                                    "2": "yellow cake with caramel icing",
                                    "3": "30"
                                },
                                {
                                    "0": "20",
                                    "1": "carrot",
                                    "2": "yellow cake with spices and dried fruits",
                                    "3": "25"
                                },
                                {
                                    "0": "21",
                                    "1": "spice",
                                    "2": "yellow cake with spices",
                                    "3": "20"
                                }
                            ]
                        },
                        "text/html": [
                            "<table>",
                            "<tr><th>cake_id</th><th>name</th><th>description</th><th>price</th></tr>",
                            "<tr><td>1</td><td>caramel</td><td>yellow cake with caramel icing</td><td>30</td></tr>",
                            "<tr><td>3</td><td>spice</td><td>yellow cake with spices</td><td>20</td></tr>",
                            "<tr><td>4</td><td>caramel</td><td>yellow cake with caramel icing</td><td>30</td></tr>",
                            "<tr><td>6</td><td>spice</td><td>yellow cake with spices</td><td>20</td></tr>",
                            "<tr><td>7</td><td>caramel</td><td>yellow cake with caramel icing</td><td>30</td></tr>",
                            "<tr><td>9</td><td>spice</td><td>yellow cake with spices</td><td>20</td></tr>",
                            "<tr><td>10</td><td>caramel</td><td>yellow cake with caramel icing</td><td>30</td></tr>",
                            "<tr><td>12</td><td>spice</td><td>yellow cake with spices</td><td>20</td></tr>",
                            "<tr><td>13</td><td>caramel</td><td>yellow cake with caramel icing</td><td>30</td></tr>",
                            "<tr><td>15</td><td>spice</td><td>yellow cake with spices</td><td>20</td></tr>",
                            "<tr><td>16</td><td>caramel</td><td>yellow cake with caramel icing</td><td>30</td></tr>",
                            "<tr><td>18</td><td>spice</td><td>yellow cake with spices</td><td>20</td></tr>",
                            "<tr><td>19</td><td>caramel</td><td>yellow cake with caramel icing</td><td>30</td></tr>",
                            "<tr><td>20</td><td>carrot</td><td>yellow cake with spices and dried fruits</td><td>25</td></tr>",
                            "<tr><td>21</td><td>spice</td><td>yellow cake with spices</td><td>20</td></tr>",
                            "</table>"
                        ]
                    }
                }
            ],
            "execution_count": 28
        },
        {
            "cell_type": "markdown",
            "source": [
                "## Update a Row\n",
                "\n",
                "Change different values in one of your three rows."
            ],
            "metadata": {
                "azdata_cell_guid": "4a39b8d4-ae97-4e09-8336-c5fc6a00d76c"
            },
            "attachments": {}
        },
        {
            "cell_type": "code",
            "source": [
                "UPDATE graceb.cake \r\n",
                "SET \r\n",
                "    price = '40'\r\n",
                "WHERE\r\n",
                "    name = 'caramel';"
            ],
            "metadata": {
                "azdata_cell_guid": "7409c695-9581-4ad8-b03a-574d2c4c87cb",
                "language": "sql"
            },
            "outputs": [
                {
                    "output_type": "display_data",
                    "data": {
                        "text/html": "(7 rows affected)"
                    },
                    "metadata": {}
                },
                {
                    "output_type": "display_data",
                    "data": {
                        "text/html": "Total execution time: 00:00:00.055"
                    },
                    "metadata": {}
                }
            ],
            "execution_count": 30
        },
        {
            "cell_type": "markdown",
            "source": [
                "## Delete a Row\n",
                "\n",
                "Delete one of the rows from your table."
            ],
            "metadata": {
                "azdata_cell_guid": "95e91a6e-9038-42d9-9401-5738842aba17"
            }
        },
        {
            "cell_type": "code",
            "source": [
                "DELETE FROM graceb.cake\r\n",
                "WHERE cake_id = '21';"
            ],
            "metadata": {
                "azdata_cell_guid": "749c748f-19b5-4c69-9004-b6b20216616a",
                "language": "sql"
            },
            "outputs": [
                {
                    "output_type": "display_data",
                    "data": {
                        "text/html": "(1 row affected)"
                    },
                    "metadata": {}
                },
                {
                    "output_type": "display_data",
                    "data": {
                        "text/html": "Total execution time: 00:00:00.040"
                    },
                    "metadata": {}
                }
            ],
            "execution_count": 31
        },
        {
            "cell_type": "markdown",
            "source": [
                "## Drop the Table\n",
                "\n",
                "While this has been fun, it is time to drop the table!"
            ],
            "metadata": {
                "azdata_cell_guid": "2239cb09-137b-4579-905b-1aa020793181"
            },
            "attachments": {}
        },
        {
            "cell_type": "code",
            "source": [
                "DROP TABLE graceb.cake"
            ],
            "metadata": {
                "azdata_cell_guid": "b3c7f6ea-ee26-46b3-9c2a-2f7a82c39699",
                "language": "sql"
            },
            "outputs": [
                {
                    "output_type": "display_data",
                    "data": {
                        "text/html": "Commands completed successfully."
                    },
                    "metadata": {}
                },
                {
                    "output_type": "display_data",
                    "data": {
                        "text/html": "Total execution time: 00:00:00.040"
                    },
                    "metadata": {}
                }
            ],
            "execution_count": 33
        }
    ]
}